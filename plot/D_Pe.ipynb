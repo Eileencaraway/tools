{
 "cells": [
  {
   "cell_type": "code",
   "execution_count": 1,
   "metadata": {
    "collapsed": true
   },
   "outputs": [],
   "source": [
    "import numpy as np \n",
    "from scipy import * \n",
    "import matplotlib.pyplot as plt \n",
    "import matplotlib \n",
    "\n",
    "data_58 = np.array([[50,100,500,700,1000],[0.00688,0.0279,0.681,1.33,2.7378],[0.0073,0.0207,0.028,0.02,0.015]])\n",
    "data_6 = np.array([[50,100,300,500,700,1000.0],[0.00297,0.0123,0.095,0.261,0.508,1.109],[0.00294,0.009,0.02,0.018,0.0121,0.01089]])\n",
    "data_62 =np.array([[50,100,300,500,700,1000],[0.00052,0.002,0.0136,0.04,0.078,0.161],[0.00053,0.00167,0.004,0.0047,0.0036,0.0016]])"
   ]
  },
  {
   "cell_type": "code",
   "execution_count": 2,
   "metadata": {
    "collapsed": false
   },
   "outputs": [],
   "source": [
    "# can custom your own style :https://matplotlib.org/users/customizing.html\n",
    "matplotlib.rcParams.update({'font.size': 9})\n",
    "# make it able to use latex \n",
    "#plt.rc('text', usetex=True)\n",
    "#plt.rc('font', family='serif')"
   ]
  },
  {
   "cell_type": "code",
   "execution_count": 3,
   "metadata": {
    "collapsed": false
   },
   "outputs": [
    {
     "data": {
      "text/plain": [
       "<matplotlib.text.Text at 0x25527dcd908>"
      ]
     },
     "execution_count": 3,
     "metadata": {},
     "output_type": "execute_result"
    }
   ],
   "source": [
    "plt.subplot(221)\n",
    "plt.loglog(data_58[0],data_58[1],linestyle= '-',color = 'r',marker = 'o',label = 'phi0.58_mu0.0')\n",
    "plt.loglog(data_58[0],data_58[2],linestyle= '-.',color = 'g',marker = '^',label = 'phi0.58_mu0.9')\n",
    "#plt.ylim(0.0001,10)\n",
    "# label x \n",
    "plt.xlabel('Pe')\n",
    "# label y \n",
    "plt.ylabel('D')\n",
    "# show the legend\n",
    "#plt.legend(bbox_to_anchor=(1.05, 1), loc=2, borderaxespad=0.) \n",
    "plt.legend(loc = 2)\n",
    "plt.subplot(222)\n",
    "plt.loglog(data_6[0],data_6[1],linestyle= '-',color = 'b',marker = 'o',label = 'phi0.6_mu0.0')\n",
    "plt.loglog(data_6[0],data_6[2],linestyle= '-.',color = 'c',marker = '^',label = 'phi0.6_mu0.9')\n",
    "#plt.ylim(0.0001,10)\n",
    "# label x \n",
    "plt.xlabel('Pe')\n",
    "# label y \n",
    "plt.ylabel('D')\n",
    "plt.legend(loc = 2)\n",
    "plt.subplot(223)\n",
    "plt.loglog(data_62[0],data_62[1],linestyle= '-',color = 'k',marker = 'o',label = 'phi0.62_mu0.0')\n",
    "plt.loglog(data_62[0],data_62[2],linestyle= '-.',color = 'm',marker = '^',label = 'phi0.62_mu0.9')\n",
    "#plt.ylim(0.0001,10)\n",
    "# label x \n",
    "plt.xlabel('Pe')\n",
    "# label y \n",
    "plt.ylabel('D')\n",
    "plt.legend(loc = 2)\n",
    "plt.subplot(224)\n",
    "plt.loglog(data_58[0],data_58[1],linestyle= '-',color = 'r',marker = 'o',label = 'phi0.58_mu0.0')\n",
    "plt.loglog(data_58[0],data_58[2],linestyle= '-.',color = 'g',marker = '^',label = 'phi0.58_mu0.9')\n",
    "plt.loglog(data_6[0],data_6[1],linestyle= '-',color = 'b',marker = 'o',label = 'phi0.6_mu0.0')\n",
    "plt.loglog(data_6[0],data_6[2],linestyle= '-.',color = 'c',marker = '^',label = 'phi0.6_mu0.9')\n",
    "plt.loglog(data_62[0],data_62[1],linestyle= '-',color = 'k',marker = 'o',label = 'phi0.62_mu0.0')\n",
    "plt.loglog(data_62[0],data_62[2],linestyle= '-.',color = 'm',marker = '^',label = 'phi0.62_mu0.9')\n",
    "plt.ylim(0.0001,10)\n",
    "# label x \n",
    "plt.xlabel('Pe')\n",
    "# label y \n",
    "plt.ylabel('D')"
   ]
  },
  {
   "cell_type": "code",
   "execution_count": 4,
   "metadata": {
    "collapsed": false
   },
   "outputs": [],
   "source": [
    "# label title \n",
    "#plt.title\n",
    "# detailed the numbers on the axis \n",
    "#plt.xlim(50,1000)\n",
    "#plt.ylim(0.001,1.5)\n",
    "\n",
    "# adjust multiple plots layout \n",
    "plt.tight_layout()\n",
    "# adjust legend \n",
    "#plt.legend()\n",
    "\n",
    "#plt.show()\n",
    "plt.savefig('D_vs_Pe_2.png',dpi = (200))"
   ]
  }
 ],
 "metadata": {
  "kernelspec": {
   "display_name": "Python 3",
   "language": "python",
   "name": "python3"
  },
  "language_info": {
   "codemirror_mode": {
    "name": "ipython",
    "version": 3
   },
   "file_extension": ".py",
   "mimetype": "text/x-python",
   "name": "python",
   "nbconvert_exporter": "python",
   "pygments_lexer": "ipython3",
   "version": "3.6.0"
  }
 },
 "nbformat": 4,
 "nbformat_minor": 2
}
