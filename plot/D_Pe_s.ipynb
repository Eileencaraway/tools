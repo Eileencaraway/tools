{
 "cells": [
  {
   "cell_type": "code",
   "execution_count": 1,
   "metadata": {
    "collapsed": true
   },
   "outputs": [],
   "source": [
    "import numpy as np \n",
    "from scipy import * \n",
    "import matplotlib.pyplot as plt \n",
    "import matplotlib \n",
    "matplotlib.rcParams.update({'font.size': 9})"
   ]
  },
  {
   "cell_type": "code",
   "execution_count": 2,
   "metadata": {
    "collapsed": true
   },
   "outputs": [],
   "source": [
    "data_3 = np.array([[50,100,500,1000],[0.169,0.658,15.9,61.4],[0.16,0.579,0.657,0.125]])\n",
    "data_4 = np.array([[50,100,500,1000],[0.093,0.394,9.09,34.7],[0.089,0.326,0.261,0.0712]])\n",
    "data_5 = np.array([[50,100,500,700,1000],[0.0385,0.159,3.446,6.65,13],[0.0385,0.098,0.091,0.055,0.0396]])"
   ]
  },
  {
   "cell_type": "code",
   "execution_count": 3,
   "metadata": {
    "collapsed": false
   },
   "outputs": [
    {
     "data": {
      "text/plain": [
       "<matplotlib.text.Text at 0x1b84dec0518>"
      ]
     },
     "execution_count": 3,
     "metadata": {},
     "output_type": "execute_result"
    }
   ],
   "source": [
    "plt.subplot(221)\n",
    "plt.loglog(data_3[0],data_3[1],linestyle= '-',color = 'r',marker = 'o',label = 'phi0.3_mu0.0')\n",
    "plt.loglog(data_3[0],data_3[2],linestyle= '-.',color = 'g',marker = '^',label = 'phi0.3_mu0.9')\n",
    "#plt.ylim(0.0001,10)\n",
    "# label x \n",
    "plt.xlabel('Pe')\n",
    "# label y \n",
    "plt.ylabel('D')\n",
    "# show the legend\n",
    "#plt.legend(bbox_to_anchor=(1.05, 1), loc=2, borderaxespad=0.) \n",
    "plt.legend(loc = 2)\n",
    "plt.subplot(222)\n",
    "plt.loglog(data_4[0],data_4[1],linestyle= '-',color = 'b',marker = 'o',label = 'phi0.4_mu0.0')\n",
    "plt.loglog(data_4[0],data_4[2],linestyle= '-.',color = 'c',marker = '^',label = 'phi0.4_mu0.9')\n",
    "#plt.ylim(0.0001,10)\n",
    "# label x \n",
    "plt.xlabel('Pe')\n",
    "# label y \n",
    "plt.ylabel('D')\n",
    "plt.legend(loc = 2)\n",
    "plt.subplot(223)\n",
    "plt.loglog(data_5[0],data_5[1],linestyle= '-',color = 'k',marker = 'o',label = 'phi0.5_mu0.0')\n",
    "plt.loglog(data_5[0],data_5[2],linestyle= '-.',color = 'm',marker = '^',label = 'phi0.5_mu0.9')\n",
    "#plt.ylim(0.0001,10)\n",
    "# label x \n",
    "plt.xlabel('Pe')\n",
    "# label y \n",
    "plt.ylabel('D')\n",
    "plt.legend(loc = 2)\n",
    "plt.subplot(224)\n",
    "plt.loglog(data_3[0],data_3[1],linestyle= '-',color = 'r',marker = 'o',label = 'phi0.3_mu0.0')\n",
    "plt.loglog(data_3[0],data_3[2],linestyle= '-.',color = 'g',marker = '^',label = 'phi0.3_mu0.9')\n",
    "plt.loglog(data_4[0],data_4[1],linestyle= '-',color = 'b',marker = 'o',label = 'phi0.4_mu0.0')\n",
    "plt.loglog(data_4[0],data_4[2],linestyle= '-.',color = 'c',marker = '^',label = 'phi0.4_mu0.9')\n",
    "plt.loglog(data_5[0],data_5[1],linestyle= '-',color = 'k',marker = 'o',label = 'phi0.5_mu0.0')\n",
    "plt.loglog(data_5[0],data_5[2],linestyle= '-.',color = 'm',marker = '^',label = 'phi0.5_mu0.9')\n",
    "plt.ylim(0.01,100)\n",
    "# label x \n",
    "plt.xlabel('Pe')\n",
    "# label y \n",
    "plt.ylabel('D')"
   ]
  },
  {
   "cell_type": "code",
   "execution_count": 4,
   "metadata": {
    "collapsed": true
   },
   "outputs": [],
   "source": [
    "#plt.show()\n",
    "plt.savefig('D_vs_Pe_s.png',dpi = (200))"
   ]
  }
 ],
 "metadata": {
  "kernelspec": {
   "display_name": "Python 3",
   "language": "python",
   "name": "python3"
  },
  "language_info": {
   "codemirror_mode": {
    "name": "ipython",
    "version": 3
   },
   "file_extension": ".py",
   "mimetype": "text/x-python",
   "name": "python",
   "nbconvert_exporter": "python",
   "pygments_lexer": "ipython3",
   "version": "3.6.0"
  }
 },
 "nbformat": 4,
 "nbformat_minor": 2
}
